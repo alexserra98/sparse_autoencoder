{
 "cells": [
  {
   "cell_type": "code",
   "execution_count": 12,
   "metadata": {},
   "outputs": [],
   "source": [
    "import sys\n",
    "sys.path.append('..')\n",
    "from src.train import Trainer, Parser, ResidualStreamActivation\n",
    "\n",
    "%load_ext autoreload\n",
    "%autoreload 2"
   ]
  },
  {
   "cell_type": "code",
   "execution_count": 13,
   "metadata": {},
   "outputs": [
    {
     "data": {
      "text/plain": [
       "(Config(model_name='gpt2', device='cuda', expansion_factor=4),\n",
       " DataConfig(dataset_name='roneneldan/TinyStories', max_items=1000, total_training_tokens=1000000),\n",
       " TrainerConfig(lr=0.001, l1_coefficient=0.001, train_batch_size=4096, adam_beta_1=0.9, adam_beta_2=0.999, adam_epsilon=1e-08, adam_weight_decay=0.0))"
      ]
     },
     "execution_count": 13,
     "metadata": {},
     "output_type": "execute_result"
    }
   ],
   "source": [
    "\n",
    "parser = Parser()\n",
    "parser.default = {\"dataset\":\"roneneldan/TinyStories\"}\n",
    "parser.parse_and_configure(notebook=True)"
   ]
  },
  {
   "cell_type": "code",
   "execution_count": 14,
   "metadata": {},
   "outputs": [
    {
     "name": "stdout",
     "output_type": "stream",
     "text": [
      "Loaded pretrained model gpt2 into HookedTransformer\n"
     ]
    },
    {
     "name": "stderr",
     "output_type": "stream",
     "text": [
      "/home/francesco/anaconda3/envs/spaut/lib/python3.10/site-packages/huggingface_hub/repocard.py:105: UserWarning: Repo card metadata block was not found. Setting CardData to empty.\n",
      "  warnings.warn(\"Repo card metadata block was not found. Setting CardData to empty.\")\n"
     ]
    }
   ],
   "source": [
    "trainer = Trainer.from_parser(parser, notebook=True) # "
   ]
  },
  {
   "cell_type": "code",
   "execution_count": 15,
   "metadata": {},
   "outputs": [],
   "source": [
    "activation = ResidualStreamActivation(8,\"pre\")"
   ]
  },
  {
   "cell_type": "code",
   "execution_count": 17,
   "metadata": {},
   "outputs": [
    {
     "name": "stderr",
     "output_type": "stream",
     "text": [
      "Failed to detect the name of this notebook, you can set it manually with the WANDB_NOTEBOOK_NAME environment variable to enable code saving.\n",
      "\u001b[34m\u001b[1mwandb\u001b[0m: Currently logged in as: \u001b[33mfrancescortu\u001b[0m. Use \u001b[1m`wandb login --relogin`\u001b[0m to force relogin\n",
      "\u001b[34m\u001b[1mwandb\u001b[0m: \u001b[33mWARNING\u001b[0m Path .cache/wandb/ wasn't writable, using system temp directory.\n",
      "wandb: WARNING Path .cache/wandb/ wasn't writable, using system temp directory\n"
     ]
    },
    {
     "data": {
      "text/html": [
       "Tracking run with wandb version 0.16.0"
      ],
      "text/plain": [
       "<IPython.core.display.HTML object>"
      ]
     },
     "metadata": {},
     "output_type": "display_data"
    },
    {
     "data": {
      "text/html": [
       "Run data is saved locally in <code>/tmp/wandb/run-20231125_175429-el27ygk6</code>"
      ],
      "text/plain": [
       "<IPython.core.display.HTML object>"
      ]
     },
     "metadata": {},
     "output_type": "display_data"
    },
    {
     "data": {
      "text/html": [
       "Syncing run <strong><a href='https://wandb.ai/francescortu/sparse-autoencoder/runs/el27ygk6' target=\"_blank\">lucky-dawn-6</a></strong> to <a href='https://wandb.ai/francescortu/sparse-autoencoder' target=\"_blank\">Weights & Biases</a> (<a href='https://wandb.me/run' target=\"_blank\">docs</a>)<br/>"
      ],
      "text/plain": [
       "<IPython.core.display.HTML object>"
      ]
     },
     "metadata": {},
     "output_type": "display_data"
    },
    {
     "data": {
      "text/html": [
       " View project at <a href='https://wandb.ai/francescortu/sparse-autoencoder' target=\"_blank\">https://wandb.ai/francescortu/sparse-autoencoder</a>"
      ],
      "text/plain": [
       "<IPython.core.display.HTML object>"
      ]
     },
     "metadata": {},
     "output_type": "display_data"
    },
    {
     "data": {
      "text/html": [
       " View run at <a href='https://wandb.ai/francescortu/sparse-autoencoder/runs/el27ygk6' target=\"_blank\">https://wandb.ai/francescortu/sparse-autoencoder/runs/el27ygk6</a>"
      ],
      "text/plain": [
       "<IPython.core.display.HTML object>"
      ]
     },
     "metadata": {},
     "output_type": "display_data"
    },
    {
     "name": "stderr",
     "output_type": "stream",
     "text": [
      "Activations trained on:   1%|          | 98304/10000000 [00:21<36:55, 4468.87it/s, stage=generate]  \n"
     ]
    },
    {
     "ename": "KeyboardInterrupt",
     "evalue": "",
     "output_type": "error",
     "traceback": [
      "\u001b[0;31m---------------------------------------------------------------------------\u001b[0m",
      "\u001b[0;31mKeyboardInterrupt\u001b[0m                         Traceback (most recent call last)",
      "\u001b[1;32m/home/francesco/Repository/sparse_autoencoder/notebooks/train.ipynb Cell 5\u001b[0m line \u001b[0;36m1\n\u001b[0;32m----> <a href='vscode-notebook-cell:/home/francesco/Repository/sparse_autoencoder/notebooks/train.ipynb#W4sZmlsZQ%3D%3D?line=0'>1</a>\u001b[0m trainer\u001b[39m.\u001b[39;49mrun_pipeline(activation)\n",
      "File \u001b[0;32m~/Repository/sparse_autoencoder/notebooks/../src/train.py:278\u001b[0m, in \u001b[0;36mTrainer.run_pipeline\u001b[0;34m(self, activation)\u001b[0m\n\u001b[1;32m    262\u001b[0m checkpoint_path \u001b[39m=\u001b[39m Path(\u001b[39m\"\u001b[39m\u001b[39m../../.checkpoint\u001b[39m\u001b[39m\"\u001b[39m) \u001b[39m#!todo put in config\u001b[39;00m\n\u001b[1;32m    265\u001b[0m pipeline \u001b[39m=\u001b[39m Pipeline(\n\u001b[1;32m    266\u001b[0m     cache_name\u001b[39m=\u001b[39mactivation\u001b[39m.\u001b[39mactivation_name,\n\u001b[1;32m    267\u001b[0m     layer\u001b[39m=\u001b[39mactivation\u001b[39m.\u001b[39mlayer,\n\u001b[0;32m   (...)\u001b[0m\n\u001b[1;32m    275\u001b[0m     checkpoint_directory\u001b[39m=\u001b[39mcheckpoint_path\n\u001b[1;32m    276\u001b[0m )\n\u001b[0;32m--> 278\u001b[0m pipeline\u001b[39m.\u001b[39;49mrun_pipeline(\n\u001b[1;32m    279\u001b[0m     train_batch_size\u001b[39m=\u001b[39;49m\u001b[39mint\u001b[39;49m(\u001b[39mself\u001b[39;49m\u001b[39m.\u001b[39;49mtrainer_config\u001b[39m.\u001b[39;49mtrain_batch_size),\n\u001b[1;32m    280\u001b[0m     max_store_size\u001b[39m=\u001b[39;49m\u001b[39m100000\u001b[39;49m,\n\u001b[1;32m    281\u001b[0m     max_activations\u001b[39m=\u001b[39;49m\u001b[39m10000000\u001b[39;49m,\n\u001b[1;32m    282\u001b[0m     resample_frequency\u001b[39m=\u001b[39;49m\u001b[39m100000\u001b[39;49m,\n\u001b[1;32m    283\u001b[0m     checkpoint_frequency\u001b[39m=\u001b[39;49m\u001b[39m100000\u001b[39;49m, \u001b[39m#!todo put in config\u001b[39;49;00m\n\u001b[1;32m    284\u001b[0m )\n",
      "File \u001b[0;32m~/Repository/sparse_autoencoder/notebooks/../src/sparse_autoencoder/train/abstract_pipeline.py:271\u001b[0m, in \u001b[0;36mAbstractPipeline.run_pipeline\u001b[0;34m(self, train_batch_size, max_store_size, max_activations, resample_frequency, validate_frequency, checkpoint_frequency)\u001b[0m\n\u001b[1;32m    268\u001b[0m \u001b[39mfor\u001b[39;00m _ \u001b[39min\u001b[39;00m \u001b[39mrange\u001b[39m(\u001b[39m0\u001b[39m, max_activations, store_size):\n\u001b[1;32m    269\u001b[0m     \u001b[39m# Generate\u001b[39;00m\n\u001b[1;32m    270\u001b[0m     progress_bar\u001b[39m.\u001b[39mset_postfix({\u001b[39m\"\u001b[39m\u001b[39mstage\u001b[39m\u001b[39m\"\u001b[39m: \u001b[39m\"\u001b[39m\u001b[39mgenerate\u001b[39m\u001b[39m\"\u001b[39m})\n\u001b[0;32m--> 271\u001b[0m     activation_store: TensorActivationStore \u001b[39m=\u001b[39m \u001b[39mself\u001b[39;49m\u001b[39m.\u001b[39;49mgenerate_activations(\n\u001b[1;32m    272\u001b[0m         store_size\n\u001b[1;32m    273\u001b[0m     )\n\u001b[1;32m    275\u001b[0m     \u001b[39m# Update the counters\u001b[39;00m\n\u001b[1;32m    276\u001b[0m     num_activation_vectors_in_store \u001b[39m=\u001b[39m \u001b[39mlen\u001b[39m(activation_store)\n",
      "File \u001b[0;32m~/Repository/sparse_autoencoder/notebooks/../src/sparse_autoencoder/train/pipeline.py:64\u001b[0m, in \u001b[0;36mPipeline.generate_activations\u001b[0;34m(self, store_size)\u001b[0m\n\u001b[1;32m     61\u001b[0m             \u001b[39mbreak\u001b[39;00m\n\u001b[1;32m     63\u001b[0m \u001b[39mself\u001b[39m\u001b[39m.\u001b[39msource_model\u001b[39m.\u001b[39mremove_all_hook_fns()\n\u001b[0;32m---> 64\u001b[0m store\u001b[39m.\u001b[39;49mshuffle()\n\u001b[1;32m     66\u001b[0m \u001b[39mreturn\u001b[39;00m store\n",
      "\u001b[0;31mKeyboardInterrupt\u001b[0m: "
     ]
    }
   ],
   "source": [
    "trainer.run_pipeline(activation)"
   ]
  }
 ],
 "metadata": {
  "kernelspec": {
   "display_name": "Python 3 (ipykernel)",
   "language": "python",
   "name": "python3"
  },
  "language_info": {
   "codemirror_mode": {
    "name": "ipython",
    "version": 3
   },
   "file_extension": ".py",
   "mimetype": "text/x-python",
   "name": "python",
   "nbconvert_exporter": "python",
   "pygments_lexer": "ipython3",
   "version": "3.10.0"
  }
 },
 "nbformat": 4,
 "nbformat_minor": 4
}
