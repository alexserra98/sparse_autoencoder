{
    "cells": [
        {
            "cell_type": "markdown",
            "metadata": {},
            "source": [
                "# Sparse Autoencoder Training Demo\n",
                "\n",
                "In order to train a sparse autoencoder, we need:\n",
                "1. A model + a layer of that model on which we want to train our autoencoder.\n",
                "2. A dataset which we can use to train generate the activations. \n",
                "3. An autoencoder to be trained. \n",
                "\n",
                "To demonstrate how to train a sparse autoencoder, this notebook shows how to train a sparse\n",
                "autoencoder on the (Tiny-Stories-1M model)[https://huggingface.co/roneneldan/TinyStories-1M].\n",
                "\n",
                "To do so, we make use of the (tiny stories dataset)[https://huggingface.co/datasets/roneneldan/TinyStories].\n",
                "\n",
                "To view other models we can load with hooked transformer, see this (page)[https://neelnanda-io.github.io/TransformerLens/generated/model_properties_table.html] in the TransformerLens docs.\n",
                "\n",
                "\n"
            ]
        },
        {
            "cell_type": "markdown",
            "metadata": {},
            "source": [
                "## Setup"
            ]
        },
        {
            "cell_type": "markdown",
            "metadata": {},
            "source": [
                "### Imports"
            ]
        },
        {
            "cell_type": "code",
            "execution_count": 1,
            "metadata": {},
            "outputs": [
                {
                    "ename": "ImportError",
                    "evalue": "cannot import name 'SparseAutoencoder' from 'sparse_autoencoder' (unknown location)",
                    "output_type": "error",
                    "traceback": [
                        "\u001b[0;31m---------------------------------------------------------------------------\u001b[0m",
                        "\u001b[0;31mImportError\u001b[0m                               Traceback (most recent call last)",
                        "\u001b[1;32m/home/francesco/Repository/sparse_autoencoder/demo.ipynb Cell 4\u001b[0m line \u001b[0;36m8\n\u001b[1;32m      <a href='vscode-notebook-cell:/home/francesco/Repository/sparse_autoencoder/demo.ipynb#W3sZmlsZQ%3D%3D?line=4'>5</a>\u001b[0m \u001b[39mfrom\u001b[39;00m \u001b[39mtransformer_lens\u001b[39;00m\u001b[39m.\u001b[39;00m\u001b[39mutils\u001b[39;00m \u001b[39mimport\u001b[39;00m get_device\n\u001b[1;32m      <a href='vscode-notebook-cell:/home/francesco/Repository/sparse_autoencoder/demo.ipynb#W3sZmlsZQ%3D%3D?line=5'>6</a>\u001b[0m \u001b[39mfrom\u001b[39;00m \u001b[39mtransformers\u001b[39;00m \u001b[39mimport\u001b[39;00m PreTrainedTokenizerBase\n\u001b[0;32m----> <a href='vscode-notebook-cell:/home/francesco/Repository/sparse_autoencoder/demo.ipynb#W3sZmlsZQ%3D%3D?line=7'>8</a>\u001b[0m \u001b[39mfrom\u001b[39;00m \u001b[39msparse_autoencoder\u001b[39;00m \u001b[39mimport\u001b[39;00m SparseAutoencoder, TensorActivationStore, pipeline\n\u001b[1;32m      <a href='vscode-notebook-cell:/home/francesco/Repository/sparse_autoencoder/demo.ipynb#W3sZmlsZQ%3D%3D?line=8'>9</a>\u001b[0m \u001b[39mfrom\u001b[39;00m \u001b[39msparse_autoencoder\u001b[39;00m\u001b[39m.\u001b[39;00m\u001b[39msource_data\u001b[39;00m\u001b[39m.\u001b[39;00m\u001b[39mtext_dataset\u001b[39;00m \u001b[39mimport\u001b[39;00m GenericTextDataset\n\u001b[1;32m     <a href='vscode-notebook-cell:/home/francesco/Repository/sparse_autoencoder/demo.ipynb#W3sZmlsZQ%3D%3D?line=9'>10</a>\u001b[0m \u001b[39mfrom\u001b[39;00m \u001b[39msparse_autoencoder\u001b[39;00m\u001b[39m.\u001b[39;00m\u001b[39mtrain\u001b[39;00m\u001b[39m.\u001b[39;00m\u001b[39msweep_config\u001b[39;00m \u001b[39mimport\u001b[39;00m SweepParametersRuntime\n",
                        "\u001b[0;31mImportError\u001b[0m: cannot import name 'SparseAutoencoder' from 'sparse_autoencoder' (unknown location)"
                    ]
                }
            ],
            "source": [
                "import os  # noqa: D100\n",
                "\n",
                "import torch\n",
                "from transformer_lens import HookedTransformer\n",
                "from transformer_lens.utils import get_device\n",
                "from transformers import PreTrainedTokenizerBase\n",
                "\n",
                "from sparse_autoencoder import SparseAutoencoder, TensorActivationStore, pipeline\n",
                "from sparse_autoencoder.source_data.text_dataset import GenericTextDataset\n",
                "from sparse_autoencoder.train.sweep_config import SweepParametersRuntime\n",
                "\n",
                "\n",
                "# Autoreload\n",
                "%load_ext autoreload\n",
                "%autoreload 2\n",
                "\n",
                "\n",
                "\n",
                "os.environ[\"TOKENIZERS_PARALLELISM\"] = \"false\"\n",
                "\n",
                "device = get_device()\n",
                "print(f\"Using device: {device}\") # You will need a GPU"
            ]
        },
        {
            "cell_type": "markdown",
            "metadata": {},
            "source": [
                "### Source Model and AutoEncoder"
            ]
        },
        {
            "cell_type": "code",
            "execution_count": 2,
            "metadata": {},
            "outputs": [
                {
                    "name": "stderr",
                    "output_type": "stream",
                    "text": [
                        "[autoreload of sparse_autoencoder.activation_store.base_store failed: Traceback (most recent call last):\n",
                        "  File \"/home/francesco/anaconda3/envs/spaut/lib/python3.10/site-packages/IPython/extensions/autoreload.py\", line 276, in check\n",
                        "    superreload(m, reload, self.old_objects)\n",
                        "  File \"/home/francesco/anaconda3/envs/spaut/lib/python3.10/site-packages/IPython/extensions/autoreload.py\", line 475, in superreload\n",
                        "    module = reload(module)\n",
                        "  File \"/home/francesco/anaconda3/envs/spaut/lib/python3.10/importlib/__init__.py\", line 169, in reload\n",
                        "    _bootstrap._exec(spec, module)\n",
                        "  File \"<frozen importlib._bootstrap>\", line 619, in _exec\n",
                        "  File \"<frozen importlib._bootstrap_external>\", line 883, in exec_module\n",
                        "  File \"<frozen importlib._bootstrap>\", line 241, in _call_with_frames_removed\n",
                        "  File \"/home/francesco/Repository/sparse_autoencoder/sparse_autoencoder/activation_store/base_store.py\", line 9, in <module>\n",
                        "    from sparse_autoencoder.tensor_types import InputOutputActivationBatch, InputOutputActivationVector\n",
                        "  File \"/home/francesco/Repository/sparse_autoencoder/sparse_autoencoder/tensor_types.py\", line 10, in <module>\n",
                        "    from strenum import LowercaseStrEnum\n",
                        "ModuleNotFoundError: No module named 'strenum'\n",
                        "]\n",
                        "[autoreload of sparse_autoencoder.activation_store.utils.extend_resize failed: Traceback (most recent call last):\n",
                        "  File \"/home/francesco/anaconda3/envs/spaut/lib/python3.10/site-packages/IPython/extensions/autoreload.py\", line 276, in check\n",
                        "    superreload(m, reload, self.old_objects)\n",
                        "  File \"/home/francesco/anaconda3/envs/spaut/lib/python3.10/site-packages/IPython/extensions/autoreload.py\", line 475, in superreload\n",
                        "    module = reload(module)\n",
                        "  File \"/home/francesco/anaconda3/envs/spaut/lib/python3.10/importlib/__init__.py\", line 169, in reload\n",
                        "    _bootstrap._exec(spec, module)\n",
                        "  File \"<frozen importlib._bootstrap>\", line 619, in _exec\n",
                        "  File \"<frozen importlib._bootstrap_external>\", line 883, in exec_module\n",
                        "  File \"<frozen importlib._bootstrap>\", line 241, in _call_with_frames_removed\n",
                        "  File \"/home/francesco/Repository/sparse_autoencoder/sparse_autoencoder/activation_store/utils/extend_resize.py\", line 4, in <module>\n",
                        "    from sparse_autoencoder.tensor_types import (\n",
                        "  File \"/home/francesco/Repository/sparse_autoencoder/sparse_autoencoder/tensor_types.py\", line 10, in <module>\n",
                        "    from strenum import LowercaseStrEnum\n",
                        "ModuleNotFoundError: No module named 'strenum'\n",
                        "]\n",
                        "[autoreload of sparse_autoencoder.activation_store.disk_store failed: Traceback (most recent call last):\n",
                        "  File \"/home/francesco/anaconda3/envs/spaut/lib/python3.10/site-packages/IPython/extensions/autoreload.py\", line 276, in check\n",
                        "    superreload(m, reload, self.old_objects)\n",
                        "  File \"/home/francesco/anaconda3/envs/spaut/lib/python3.10/site-packages/IPython/extensions/autoreload.py\", line 475, in superreload\n",
                        "    module = reload(module)\n",
                        "  File \"/home/francesco/anaconda3/envs/spaut/lib/python3.10/importlib/__init__.py\", line 169, in reload\n",
                        "    _bootstrap._exec(spec, module)\n",
                        "  File \"<frozen importlib._bootstrap>\", line 619, in _exec\n",
                        "  File \"<frozen importlib._bootstrap_external>\", line 883, in exec_module\n",
                        "  File \"<frozen importlib._bootstrap>\", line 241, in _call_with_frames_removed\n",
                        "  File \"/home/francesco/Repository/sparse_autoencoder/sparse_autoencoder/activation_store/disk_store.py\", line 17, in <module>\n",
                        "    from sparse_autoencoder.tensor_types import (\n",
                        "  File \"/home/francesco/Repository/sparse_autoencoder/sparse_autoencoder/tensor_types.py\", line 10, in <module>\n",
                        "    from strenum import LowercaseStrEnum\n",
                        "ModuleNotFoundError: No module named 'strenum'\n",
                        "]\n",
                        "[autoreload of sparse_autoencoder.activation_store.list_store failed: Traceback (most recent call last):\n",
                        "  File \"/home/francesco/anaconda3/envs/spaut/lib/python3.10/site-packages/IPython/extensions/autoreload.py\", line 276, in check\n",
                        "    superreload(m, reload, self.old_objects)\n",
                        "  File \"/home/francesco/anaconda3/envs/spaut/lib/python3.10/site-packages/IPython/extensions/autoreload.py\", line 475, in superreload\n",
                        "    module = reload(module)\n",
                        "  File \"/home/francesco/anaconda3/envs/spaut/lib/python3.10/importlib/__init__.py\", line 169, in reload\n",
                        "    _bootstrap._exec(spec, module)\n",
                        "  File \"<frozen importlib._bootstrap>\", line 619, in _exec\n",
                        "  File \"<frozen importlib._bootstrap_external>\", line 883, in exec_module\n",
                        "  File \"<frozen importlib._bootstrap>\", line 241, in _call_with_frames_removed\n",
                        "  File \"/home/francesco/Repository/sparse_autoencoder/sparse_autoencoder/activation_store/list_store.py\", line 16, in <module>\n",
                        "    from sparse_autoencoder.tensor_types import (\n",
                        "  File \"/home/francesco/Repository/sparse_autoencoder/sparse_autoencoder/tensor_types.py\", line 10, in <module>\n",
                        "    from strenum import LowercaseStrEnum\n",
                        "ModuleNotFoundError: No module named 'strenum'\n",
                        "]\n",
                        "[autoreload of sparse_autoencoder.activation_store.tensor_store failed: Traceback (most recent call last):\n",
                        "  File \"/home/francesco/anaconda3/envs/spaut/lib/python3.10/site-packages/IPython/extensions/autoreload.py\", line 276, in check\n",
                        "    superreload(m, reload, self.old_objects)\n",
                        "  File \"/home/francesco/anaconda3/envs/spaut/lib/python3.10/site-packages/IPython/extensions/autoreload.py\", line 475, in superreload\n",
                        "    module = reload(module)\n",
                        "  File \"/home/francesco/anaconda3/envs/spaut/lib/python3.10/importlib/__init__.py\", line 169, in reload\n",
                        "    _bootstrap._exec(spec, module)\n",
                        "  File \"<frozen importlib._bootstrap>\", line 619, in _exec\n",
                        "  File \"<frozen importlib._bootstrap_external>\", line 883, in exec_module\n",
                        "  File \"<frozen importlib._bootstrap>\", line 241, in _call_with_frames_removed\n",
                        "  File \"/home/francesco/Repository/sparse_autoencoder/sparse_autoencoder/activation_store/tensor_store.py\", line 11, in <module>\n",
                        "    from sparse_autoencoder.tensor_types import (\n",
                        "  File \"/home/francesco/Repository/sparse_autoencoder/sparse_autoencoder/tensor_types.py\", line 10, in <module>\n",
                        "    from strenum import LowercaseStrEnum\n",
                        "ModuleNotFoundError: No module named 'strenum'\n",
                        "]\n",
                        "[autoreload of sparse_autoencoder.autoencoder.components.tied_bias failed: Traceback (most recent call last):\n",
                        "  File \"/home/francesco/anaconda3/envs/spaut/lib/python3.10/site-packages/IPython/extensions/autoreload.py\", line 276, in check\n",
                        "    superreload(m, reload, self.old_objects)\n",
                        "  File \"/home/francesco/anaconda3/envs/spaut/lib/python3.10/site-packages/IPython/extensions/autoreload.py\", line 475, in superreload\n",
                        "    module = reload(module)\n",
                        "  File \"/home/francesco/anaconda3/envs/spaut/lib/python3.10/importlib/__init__.py\", line 169, in reload\n",
                        "    _bootstrap._exec(spec, module)\n",
                        "  File \"<frozen importlib._bootstrap>\", line 619, in _exec\n",
                        "  File \"<frozen importlib._bootstrap_external>\", line 883, in exec_module\n",
                        "  File \"<frozen importlib._bootstrap>\", line 241, in _call_with_frames_removed\n",
                        "  File \"/home/francesco/Repository/sparse_autoencoder/sparse_autoencoder/autoencoder/components/tied_bias.py\", line 6, in <module>\n",
                        "    from sparse_autoencoder.tensor_types import (\n",
                        "  File \"/home/francesco/Repository/sparse_autoencoder/sparse_autoencoder/tensor_types.py\", line 10, in <module>\n",
                        "    from strenum import LowercaseStrEnum\n",
                        "ModuleNotFoundError: No module named 'strenum'\n",
                        "]\n",
                        "[autoreload of sparse_autoencoder.autoencoder.components.unit_norm_linear failed: Traceback (most recent call last):\n",
                        "  File \"/home/francesco/anaconda3/envs/spaut/lib/python3.10/site-packages/IPython/extensions/autoreload.py\", line 276, in check\n",
                        "    superreload(m, reload, self.old_objects)\n",
                        "  File \"/home/francesco/anaconda3/envs/spaut/lib/python3.10/site-packages/IPython/extensions/autoreload.py\", line 475, in superreload\n",
                        "    module = reload(module)\n",
                        "  File \"/home/francesco/anaconda3/envs/spaut/lib/python3.10/importlib/__init__.py\", line 169, in reload\n",
                        "    _bootstrap._exec(spec, module)\n",
                        "  File \"<frozen importlib._bootstrap>\", line 619, in _exec\n",
                        "  File \"<frozen importlib._bootstrap_external>\", line 883, in exec_module\n",
                        "  File \"<frozen importlib._bootstrap>\", line 241, in _call_with_frames_removed\n",
                        "  File \"/home/francesco/Repository/sparse_autoencoder/sparse_autoencoder/autoencoder/components/unit_norm_linear.py\", line 10, in <module>\n",
                        "    from sparse_autoencoder.tensor_types import (\n",
                        "  File \"/home/francesco/Repository/sparse_autoencoder/sparse_autoencoder/tensor_types.py\", line 10, in <module>\n",
                        "    from strenum import LowercaseStrEnum\n",
                        "ModuleNotFoundError: No module named 'strenum'\n",
                        "]\n",
                        "[autoreload of sparse_autoencoder.autoencoder.model failed: Traceback (most recent call last):\n",
                        "  File \"/home/francesco/anaconda3/envs/spaut/lib/python3.10/site-packages/IPython/extensions/autoreload.py\", line 276, in check\n",
                        "    superreload(m, reload, self.old_objects)\n",
                        "  File \"/home/francesco/anaconda3/envs/spaut/lib/python3.10/site-packages/IPython/extensions/autoreload.py\", line 475, in superreload\n",
                        "    module = reload(module)\n",
                        "  File \"/home/francesco/anaconda3/envs/spaut/lib/python3.10/importlib/__init__.py\", line 169, in reload\n",
                        "    _bootstrap._exec(spec, module)\n",
                        "  File \"<frozen importlib._bootstrap>\", line 619, in _exec\n",
                        "  File \"<frozen importlib._bootstrap_external>\", line 883, in exec_module\n",
                        "  File \"<frozen importlib._bootstrap>\", line 241, in _call_with_frames_removed\n",
                        "  File \"/home/francesco/Repository/sparse_autoencoder/sparse_autoencoder/autoencoder/model.py\", line 10, in <module>\n",
                        "    from sparse_autoencoder.tensor_types import (\n",
                        "  File \"/home/francesco/Repository/sparse_autoencoder/sparse_autoencoder/tensor_types.py\", line 10, in <module>\n",
                        "    from strenum import LowercaseStrEnum\n",
                        "ModuleNotFoundError: No module named 'strenum'\n",
                        "]\n",
                        "[autoreload of sparse_autoencoder.optimizer.adam_with_reset failed: Traceback (most recent call last):\n",
                        "  File \"/home/francesco/anaconda3/envs/spaut/lib/python3.10/site-packages/IPython/extensions/autoreload.py\", line 276, in check\n",
                        "    superreload(m, reload, self.old_objects)\n",
                        "  File \"/home/francesco/anaconda3/envs/spaut/lib/python3.10/site-packages/IPython/extensions/autoreload.py\", line 475, in superreload\n",
                        "    module = reload(module)\n",
                        "  File \"/home/francesco/anaconda3/envs/spaut/lib/python3.10/importlib/__init__.py\", line 169, in reload\n",
                        "    _bootstrap._exec(spec, module)\n",
                        "  File \"<frozen importlib._bootstrap>\", line 619, in _exec\n",
                        "  File \"<frozen importlib._bootstrap_external>\", line 883, in exec_module\n",
                        "  File \"<frozen importlib._bootstrap>\", line 241, in _call_with_frames_removed\n",
                        "  File \"/home/francesco/Repository/sparse_autoencoder/sparse_autoencoder/optimizer/adam_with_reset.py\", line 14, in <module>\n",
                        "    from sparse_autoencoder.tensor_types import DeadNeuronIndices\n",
                        "  File \"/home/francesco/Repository/sparse_autoencoder/sparse_autoencoder/tensor_types.py\", line 10, in <module>\n",
                        "    from strenum import LowercaseStrEnum\n",
                        "ModuleNotFoundError: No module named 'strenum'\n",
                        "]\n",
                        "[autoreload of sparse_autoencoder.source_data.abstract_dataset failed: Traceback (most recent call last):\n",
                        "  File \"/home/francesco/anaconda3/envs/spaut/lib/python3.10/site-packages/IPython/extensions/autoreload.py\", line 276, in check\n",
                        "    superreload(m, reload, self.old_objects)\n",
                        "  File \"/home/francesco/anaconda3/envs/spaut/lib/python3.10/site-packages/IPython/extensions/autoreload.py\", line 475, in superreload\n",
                        "    module = reload(module)\n",
                        "  File \"/home/francesco/anaconda3/envs/spaut/lib/python3.10/importlib/__init__.py\", line 169, in reload\n",
                        "    _bootstrap._exec(spec, module)\n",
                        "  File \"<frozen importlib._bootstrap>\", line 619, in _exec\n",
                        "  File \"<frozen importlib._bootstrap_external>\", line 883, in exec_module\n",
                        "  File \"<frozen importlib._bootstrap>\", line 241, in _call_with_frames_removed\n",
                        "  File \"/home/francesco/Repository/sparse_autoencoder/sparse_autoencoder/source_data/abstract_dataset.py\", line 9, in <module>\n",
                        "    from sparse_autoencoder.tensor_types import BatchTokenizedPrompts\n",
                        "  File \"/home/francesco/Repository/sparse_autoencoder/sparse_autoencoder/tensor_types.py\", line 10, in <module>\n",
                        "    from strenum import LowercaseStrEnum\n",
                        "ModuleNotFoundError: No module named 'strenum'\n",
                        "]\n",
                        "[autoreload of sparse_autoencoder.src_model.store_activations_hook failed: Traceback (most recent call last):\n",
                        "  File \"/home/francesco/anaconda3/envs/spaut/lib/python3.10/site-packages/IPython/extensions/autoreload.py\", line 276, in check\n",
                        "    superreload(m, reload, self.old_objects)\n",
                        "  File \"/home/francesco/anaconda3/envs/spaut/lib/python3.10/site-packages/IPython/extensions/autoreload.py\", line 475, in superreload\n",
                        "    module = reload(module)\n",
                        "  File \"/home/francesco/anaconda3/envs/spaut/lib/python3.10/importlib/__init__.py\", line 169, in reload\n",
                        "    _bootstrap._exec(spec, module)\n",
                        "  File \"<frozen importlib._bootstrap>\", line 619, in _exec\n",
                        "  File \"<frozen importlib._bootstrap_external>\", line 883, in exec_module\n",
                        "  File \"<frozen importlib._bootstrap>\", line 241, in _call_with_frames_removed\n",
                        "  File \"/home/francesco/Repository/sparse_autoencoder/sparse_autoencoder/src_model/store_activations_hook.py\", line 5, in <module>\n",
                        "    from sparse_autoencoder.tensor_types import SourceModelActivations\n",
                        "  File \"/home/francesco/Repository/sparse_autoencoder/sparse_autoencoder/tensor_types.py\", line 10, in <module>\n",
                        "    from strenum import LowercaseStrEnum\n",
                        "ModuleNotFoundError: No module named 'strenum'\n",
                        "]\n",
                        "[autoreload of sparse_autoencoder.train.resample_neurons failed: Traceback (most recent call last):\n",
                        "  File \"/home/francesco/anaconda3/envs/spaut/lib/python3.10/site-packages/IPython/extensions/autoreload.py\", line 276, in check\n",
                        "    superreload(m, reload, self.old_objects)\n",
                        "  File \"/home/francesco/anaconda3/envs/spaut/lib/python3.10/site-packages/IPython/extensions/autoreload.py\", line 475, in superreload\n",
                        "    module = reload(module)\n",
                        "  File \"/home/francesco/anaconda3/envs/spaut/lib/python3.10/importlib/__init__.py\", line 169, in reload\n",
                        "    _bootstrap._exec(spec, module)\n",
                        "  File \"<frozen importlib._bootstrap>\", line 619, in _exec\n",
                        "  File \"<frozen importlib._bootstrap_external>\", line 883, in exec_module\n",
                        "  File \"<frozen importlib._bootstrap>\", line 241, in _call_with_frames_removed\n",
                        "  File \"/home/francesco/Repository/sparse_autoencoder/sparse_autoencoder/train/resample_neurons.py\", line 13, in <module>\n",
                        "    from sparse_autoencoder.loss.learned_activations_l1 import LearnedActivationsL1Loss\n",
                        "  File \"/home/francesco/Repository/sparse_autoencoder/sparse_autoencoder/loss/__init__.py\", line 10, in <module>\n",
                        "    from sparse_autoencoder.loss.abstract_loss import AbstractLoss, LossLogType, LossReductionType\n",
                        "  File \"/home/francesco/Repository/sparse_autoencoder/sparse_autoencoder/loss/abstract_loss.py\", line 5, in <module>\n",
                        "    from strenum import LowercaseStrEnum\n",
                        "ModuleNotFoundError: No module named 'strenum'\n",
                        "]\n",
                        "[autoreload of sparse_autoencoder.train.train_autoencoder failed: Traceback (most recent call last):\n",
                        "  File \"/home/francesco/anaconda3/envs/spaut/lib/python3.10/site-packages/IPython/extensions/autoreload.py\", line 276, in check\n",
                        "    superreload(m, reload, self.old_objects)\n",
                        "  File \"/home/francesco/anaconda3/envs/spaut/lib/python3.10/site-packages/IPython/extensions/autoreload.py\", line 475, in superreload\n",
                        "    module = reload(module)\n",
                        "  File \"/home/francesco/anaconda3/envs/spaut/lib/python3.10/importlib/__init__.py\", line 169, in reload\n",
                        "    _bootstrap._exec(spec, module)\n",
                        "  File \"<frozen importlib._bootstrap>\", line 619, in _exec\n",
                        "  File \"<frozen importlib._bootstrap_external>\", line 883, in exec_module\n",
                        "  File \"<frozen importlib._bootstrap>\", line 241, in _call_with_frames_removed\n",
                        "  File \"/home/francesco/Repository/sparse_autoencoder/sparse_autoencoder/train/train_autoencoder.py\", line 10, in <module>\n",
                        "    from sparse_autoencoder.loss.learned_activations_l1 import LearnedActivationsL1Loss\n",
                        "  File \"/home/francesco/Repository/sparse_autoencoder/sparse_autoencoder/loss/__init__.py\", line 10, in <module>\n",
                        "    from sparse_autoencoder.loss.abstract_loss import AbstractLoss, LossLogType, LossReductionType\n",
                        "  File \"/home/francesco/Repository/sparse_autoencoder/sparse_autoencoder/loss/abstract_loss.py\", line 5, in <module>\n",
                        "    from strenum import LowercaseStrEnum\n",
                        "ModuleNotFoundError: No module named 'strenum'\n",
                        "]\n",
                        "[autoreload of sparse_autoencoder failed: Traceback (most recent call last):\n",
                        "  File \"/home/francesco/anaconda3/envs/spaut/lib/python3.10/site-packages/IPython/extensions/autoreload.py\", line 276, in check\n",
                        "    superreload(m, reload, self.old_objects)\n",
                        "  File \"/home/francesco/anaconda3/envs/spaut/lib/python3.10/site-packages/IPython/extensions/autoreload.py\", line 475, in superreload\n",
                        "    module = reload(module)\n",
                        "  File \"/home/francesco/anaconda3/envs/spaut/lib/python3.10/importlib/__init__.py\", line 169, in reload\n",
                        "    _bootstrap._exec(spec, module)\n",
                        "  File \"<frozen importlib._bootstrap>\", line 619, in _exec\n",
                        "  File \"<frozen importlib._bootstrap_external>\", line 883, in exec_module\n",
                        "  File \"<frozen importlib._bootstrap>\", line 241, in _call_with_frames_removed\n",
                        "  File \"/home/francesco/Repository/sparse_autoencoder/sparse_autoencoder/__init__.py\", line 9, in <module>\n",
                        "    from sparse_autoencoder.loss import (\n",
                        "  File \"/home/francesco/Repository/sparse_autoencoder/sparse_autoencoder/loss/__init__.py\", line 10, in <module>\n",
                        "    from sparse_autoencoder.loss.abstract_loss import AbstractLoss, LossLogType, LossReductionType\n",
                        "  File \"/home/francesco/Repository/sparse_autoencoder/sparse_autoencoder/loss/abstract_loss.py\", line 5, in <module>\n",
                        "    from strenum import LowercaseStrEnum\n",
                        "ModuleNotFoundError: No module named 'strenum'\n",
                        "]\n"
                    ]
                },
                {
                    "data": {
                        "application/vnd.jupyter.widget-view+json": {
                            "model_id": "ac4706d477a04cfb9641dc78b7dca1f8",
                            "version_major": 2,
                            "version_minor": 0
                        },
                        "text/plain": [
                            "config.json:   0%|          | 0.00/1.02k [00:00<?, ?B/s]"
                        ]
                    },
                    "metadata": {},
                    "output_type": "display_data"
                },
                {
                    "data": {
                        "application/vnd.jupyter.widget-view+json": {
                            "model_id": "4da0abb6b8594fc089f0984d32eceda8",
                            "version_major": 2,
                            "version_minor": 0
                        },
                        "text/plain": [
                            "pytorch_model.bin:   0%|          | 0.00/48.6M [00:00<?, ?B/s]"
                        ]
                    },
                    "metadata": {},
                    "output_type": "display_data"
                },
                {
                    "data": {
                        "application/vnd.jupyter.widget-view+json": {
                            "model_id": "8357c837f03b4c1ea411a07dca4c8b02",
                            "version_major": 2,
                            "version_minor": 0
                        },
                        "text/plain": [
                            "tokenizer_config.json:   0%|          | 0.00/722 [00:00<?, ?B/s]"
                        ]
                    },
                    "metadata": {},
                    "output_type": "display_data"
                },
                {
                    "data": {
                        "application/vnd.jupyter.widget-view+json": {
                            "model_id": "b7e87c0d5bd44294a0194b8ebb619b2f",
                            "version_major": 2,
                            "version_minor": 0
                        },
                        "text/plain": [
                            "vocab.json:   0%|          | 0.00/798k [00:00<?, ?B/s]"
                        ]
                    },
                    "metadata": {},
                    "output_type": "display_data"
                },
                {
                    "data": {
                        "application/vnd.jupyter.widget-view+json": {
                            "model_id": "3a7e35344d5443cfbb2ae8d3ddec24cd",
                            "version_major": 2,
                            "version_minor": 0
                        },
                        "text/plain": [
                            "merges.txt:   0%|          | 0.00/456k [00:00<?, ?B/s]"
                        ]
                    },
                    "metadata": {},
                    "output_type": "display_data"
                },
                {
                    "data": {
                        "application/vnd.jupyter.widget-view+json": {
                            "model_id": "f1da66c170934f278f2b07b1a3d78485",
                            "version_major": 2,
                            "version_minor": 0
                        },
                        "text/plain": [
                            "tokenizer.json:   0%|          | 0.00/2.11M [00:00<?, ?B/s]"
                        ]
                    },
                    "metadata": {},
                    "output_type": "display_data"
                },
                {
                    "data": {
                        "application/vnd.jupyter.widget-view+json": {
                            "model_id": "e345b0e97c7b4bc08ce5408173ab9be0",
                            "version_major": 2,
                            "version_minor": 0
                        },
                        "text/plain": [
                            "special_tokens_map.json:   0%|          | 0.00/438 [00:00<?, ?B/s]"
                        ]
                    },
                    "metadata": {},
                    "output_type": "display_data"
                },
                {
                    "name": "stderr",
                    "output_type": "stream",
                    "text": [
                        "Using pad_token, but it is not set yet.\n"
                    ]
                },
                {
                    "name": "stdout",
                    "output_type": "stream",
                    "text": [
                        "Loaded pretrained model tiny-stories-1M into HookedTransformer\n",
                        "Source model name: tiny-stories-1M\n",
                        "Source model activation hook point: blocks.0.mlp.hook_post\n",
                        "Source model d_mlp: 256\n"
                    ]
                }
            ],
            "source": [
                "src_model_name = \"tiny-stories-1M\"\n",
                "src_model = HookedTransformer.from_pretrained(src_model_name, dtype=\"float32\")\n",
                "src_d_mlp: int = src_model.cfg.d_mlp  # type: ignore\n",
                "\n",
                "src_model_activation_hook_point = \"blocks.0.mlp.hook_post\" # We choose to find features in the output of the first MLP layer.\n",
                "src_model_activation_layer = 0 # This is the layer index of the layer we are hooking into. Possibly can detect by defautl.\n",
                "\n",
                "print(f\"Source model name: {src_model_name}\")\n",
                "print(f\"Source model activation hook point: {src_model_activation_hook_point}\")\n",
                "print(f\"Source model d_mlp: {src_d_mlp}\") # We need the dimension of the activations we are autoencoding. \n",
                "\n",
                "# We can then instantiate the autoencoder\n",
                "expansion_ratio = 8\n",
                "autoencoder = SparseAutoencoder(\n",
                "    n_input_features = src_d_mlp,  # size of the activations we are autoencoding\n",
                "    n_learned_features = src_d_mlp * expansion_ratio, # size of SAE\n",
                "    geometric_median_dataset = torch.zeros(src_d_mlp) # this is used to initialize the tied bias\n",
                ")"
            ]
        },
        {
            "cell_type": "markdown",
            "metadata": {},
            "source": [
                "### Source Dataset and Activation Store"
            ]
        },
        {
            "cell_type": "code",
            "execution_count": null,
            "metadata": {},
            "outputs": [],
            "source": [
                "tokenizer: PreTrainedTokenizerBase = src_model.tokenizer  # type: ignore\n",
                "\n",
                "# We've implemented a generic wrapper around huggingface datasets.\n",
                "# We'll use the training data for the Tiny Stories model. \n",
                "source_data = GenericTextDataset(tokenizer=tokenizer, dataset_path = \"roneneldan/TinyStories\") \n",
                "\n",
                "# In practice, we load and shuffle data from the dataset. \n",
                "# This is to ensure mixing of the data / prevent overfitting\n",
                "# Optimal/feasible Max Items will depend on your GPU memory.\n",
                "max_items = 1_000_000\n",
                "total_training_tokens = 10_000_000\n",
                "store = TensorActivationStore(max_items, src_d_mlp, device)"
            ]
        },
        {
            "cell_type": "markdown",
            "metadata": {},
            "source": [
                "## Training Hyperparameters "
            ]
        },
        {
            "cell_type": "code",
            "execution_count": null,
            "metadata": {},
            "outputs": [],
            "source": [
                "from sparse_autoencoder.train.sweep_config import SweepParametersRuntime\n",
                "\n",
                "\n",
                "# Some of the training hyperparameters are passed through in the sweep parameters.\n",
                "# The important thing is to set l1 high enough to get sparsity (eventually),\n",
                "# without compromising the reconstruction loss too much.\n",
                "# Having a large batch size is important too.\n",
                "training_hyperparameters = SweepParametersRuntime(\n",
                "    lr = 0.001, # This is the learning rate\n",
                "    l1_coefficient = 0.001, # This is the coefficient for the L1 regularization\n",
                "    batch_size = 4096, # important that this be quite large.\n",
                "\n",
                "    # Adam Parameters (don't usually need to change these)\n",
                "    adam_beta_1 = 0.9,\n",
                "    adam_beta_2 = 0.999,\n",
                "    adam_epsilon = 1e-8,\n",
                "    adam_weight_decay = 0.0\n",
                ")"
            ]
        },
        {
            "cell_type": "markdown",
            "metadata": {},
            "source": [
                "###"
            ]
        },
        {
            "cell_type": "markdown",
            "metadata": {},
            "source": [
                "## Training"
            ]
        },
        {
            "cell_type": "markdown",
            "metadata": {},
            "source": [
                "If you initialise [wandb](https://wandb.ai/site), the pipeline will automatically log all metrics to\n",
                "wandb. However, we should pass in a dictionary with all of our hyperaparameters so they're on \n",
                "wandb. \n",
                "\n",
                "We strongly encourage users to make use of wandb in order to understand the training process."
            ]
        },
        {
            "cell_type": "code",
            "execution_count": null,
            "metadata": {},
            "outputs": [],
            "source": [
                " config = {\n",
                "        # Data Params\n",
                "        \"model_name\": src_model_name,\n",
                "        \"hook_point\": src_model_activation_hook_point,\n",
                "        \"src_model_activation_hook_point\": src_model_activation_hook_point,\n",
                "        \"src_model_activation_layer\": src_model_activation_layer,\n",
                "\n",
                "        # SAE params\n",
                "        \"activation_width\": src_d_mlp,\n",
                "        \"expansion_ratio\": expansion_ratio,\n",
                "\n",
                "        # Training params\n",
                "        \"max_items\": max_items,\n",
                "        \"training_tokens\": total_training_tokens,\n",
                "\n",
                "        # other\n",
                "        \"device\": device,\n",
                "    }\n",
                "\n",
                "# add training hyperparameters to config\n",
                "config = config | training_hyperparameters.__dict__\n",
                "config"
            ]
        },
        {
            "cell_type": "code",
            "execution_count": null,
            "metadata": {},
            "outputs": [],
            "source": [
                "# skip if you want.\n",
                "import wandb\n",
                "wandb.init(\n",
                "    project=\"sparse-autoencoder\",\n",
                "    dir=\".cache/wandb\",\n",
                "    name=\"demo\",\n",
                "    config=config,\n",
                ")"
            ]
        },
        {
            "cell_type": "code",
            "execution_count": null,
            "metadata": {},
            "outputs": [],
            "source": [
                "pipeline(\n",
                "    src_model=src_model,\n",
                "    src_model_activation_hook_point=src_model_activation_hook_point,\n",
                "    src_model_activation_layer=src_model_activation_layer,\n",
                "    source_dataset=source_data,\n",
                "    activation_store=store,\n",
                "    num_activations_before_training=max_items,\n",
                "    autoencoder=autoencoder,\n",
                "    device=device,\n",
                "    max_activations=total_training_tokens,\n",
                "    sweep_parameters=training_hyperparameters,\n",
                ")"
            ]
        },
        {
            "cell_type": "code",
            "execution_count": null,
            "metadata": {},
            "outputs": [],
            "source": [
                "wandb.finish()"
            ]
        },
        {
            "cell_type": "markdown",
            "metadata": {},
            "source": [
                "## Training Advice\n",
                "\n",
                "-- Unfinished --\n",
                "\n",
                "- Check recovery loss is low while sparsity is low as well (<20 L1) usually.\n",
                "- Can't be sure features are useful until you dig into them more. "
            ]
        },
        {
            "cell_type": "markdown",
            "metadata": {},
            "source": [
                "# Analysis\n",
                "\n",
                "-- Unfinished --"
            ]
        },
        {
            "cell_type": "code",
            "execution_count": null,
            "metadata": {},
            "outputs": [],
            "source": []
        }
    ],
    "metadata": {
        "kernelspec": {
            "display_name": ".venv",
            "language": "python",
            "name": "python3"
        },
        "language_info": {
            "codemirror_mode": {
                "name": "ipython",
                "version": 3
            },
            "file_extension": ".py",
            "mimetype": "text/x-python",
            "name": "python",
            "nbconvert_exporter": "python",
            "pygments_lexer": "ipython3",
            "version": "3.10.0"
        }
    },
    "nbformat": 4,
    "nbformat_minor": 2
}
